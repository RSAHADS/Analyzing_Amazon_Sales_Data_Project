{
 "cells": [
  {
   "cell_type": "code",
   "execution_count": 1,
   "metadata": {
    "executionInfo": {
     "elapsed": 1765,
     "status": "ok",
     "timestamp": 1723281865572,
     "user": {
      "displayName": "Rwitankar Saha",
      "userId": "01902924201585853563"
     },
     "user_tz": -330
    },
    "id": "p8_dhJrXkLkN"
   },
   "outputs": [],
   "source": [
    "import numpy as np\n",
    "import pandas as pd\n",
    "import matplotlib.pyplot as plt\n",
    "import seaborn as sns"
   ]
  },
  {
   "cell_type": "code",
   "execution_count": 2,
   "metadata": {
    "executionInfo": {
     "elapsed": 553,
     "status": "ok",
     "timestamp": 1723282380227,
     "user": {
      "displayName": "Rwitankar Saha",
      "userId": "01902924201585853563"
     },
     "user_tz": -330
    },
    "id": "c7SPBDnBmoiA"
   },
   "outputs": [],
   "source": [
    "df = pd.read_csv('D:\\\\Project - Analyzing Amazon Sales Data\\\\Amazon_Sales_data.csv')"
   ]
  },
  {
   "cell_type": "code",
   "execution_count": 3,
   "metadata": {
    "colab": {
     "base_uri": "https://localhost:8080/",
     "height": 434
    },
    "executionInfo": {
     "elapsed": 567,
     "status": "ok",
     "timestamp": 1723282398700,
     "user": {
      "displayName": "Rwitankar Saha",
      "userId": "01902924201585853563"
     },
     "user_tz": -330
    },
    "id": "jROkdNWsomgb",
    "outputId": "03182510-cd26-4f97-e5e6-e7342296d6a9"
   },
   "outputs": [
    {
     "data": {
      "text/html": [
       "<div>\n",
       "<style scoped>\n",
       "    .dataframe tbody tr th:only-of-type {\n",
       "        vertical-align: middle;\n",
       "    }\n",
       "\n",
       "    .dataframe tbody tr th {\n",
       "        vertical-align: top;\n",
       "    }\n",
       "\n",
       "    .dataframe thead th {\n",
       "        text-align: right;\n",
       "    }\n",
       "</style>\n",
       "<table border=\"1\" class=\"dataframe\">\n",
       "  <thead>\n",
       "    <tr style=\"text-align: right;\">\n",
       "      <th></th>\n",
       "      <th>Region</th>\n",
       "      <th>Country</th>\n",
       "      <th>Item Type</th>\n",
       "      <th>Sales Channel</th>\n",
       "      <th>Order Priority</th>\n",
       "      <th>Order Date</th>\n",
       "      <th>Order ID</th>\n",
       "      <th>Ship Date</th>\n",
       "      <th>Units Sold</th>\n",
       "      <th>Unit Price</th>\n",
       "      <th>Unit Cost</th>\n",
       "      <th>Total Revenue</th>\n",
       "      <th>Total Cost</th>\n",
       "      <th>Total Profit</th>\n",
       "    </tr>\n",
       "  </thead>\n",
       "  <tbody>\n",
       "    <tr>\n",
       "      <th>0</th>\n",
       "      <td>Australia and Oceania</td>\n",
       "      <td>Tuvalu</td>\n",
       "      <td>Baby Food</td>\n",
       "      <td>Offline</td>\n",
       "      <td>H</td>\n",
       "      <td>5/28/2010</td>\n",
       "      <td>669165933</td>\n",
       "      <td>6/27/2010</td>\n",
       "      <td>9925</td>\n",
       "      <td>255.28</td>\n",
       "      <td>159.42</td>\n",
       "      <td>2533654.00</td>\n",
       "      <td>1582243.50</td>\n",
       "      <td>951410.50</td>\n",
       "    </tr>\n",
       "    <tr>\n",
       "      <th>1</th>\n",
       "      <td>Central America and the Caribbean</td>\n",
       "      <td>Grenada</td>\n",
       "      <td>Cereal</td>\n",
       "      <td>Online</td>\n",
       "      <td>C</td>\n",
       "      <td>8/22/2012</td>\n",
       "      <td>963881480</td>\n",
       "      <td>9/15/2012</td>\n",
       "      <td>2804</td>\n",
       "      <td>205.70</td>\n",
       "      <td>117.11</td>\n",
       "      <td>576782.80</td>\n",
       "      <td>328376.44</td>\n",
       "      <td>248406.36</td>\n",
       "    </tr>\n",
       "    <tr>\n",
       "      <th>2</th>\n",
       "      <td>Europe</td>\n",
       "      <td>Russia</td>\n",
       "      <td>Office Supplies</td>\n",
       "      <td>Offline</td>\n",
       "      <td>L</td>\n",
       "      <td>5/2/2014</td>\n",
       "      <td>341417157</td>\n",
       "      <td>5/8/2014</td>\n",
       "      <td>1779</td>\n",
       "      <td>651.21</td>\n",
       "      <td>524.96</td>\n",
       "      <td>1158502.59</td>\n",
       "      <td>933903.84</td>\n",
       "      <td>224598.75</td>\n",
       "    </tr>\n",
       "    <tr>\n",
       "      <th>3</th>\n",
       "      <td>Sub-Saharan Africa</td>\n",
       "      <td>Sao Tome and Principe</td>\n",
       "      <td>Fruits</td>\n",
       "      <td>Online</td>\n",
       "      <td>C</td>\n",
       "      <td>6/20/2014</td>\n",
       "      <td>514321792</td>\n",
       "      <td>7/5/2014</td>\n",
       "      <td>8102</td>\n",
       "      <td>9.33</td>\n",
       "      <td>6.92</td>\n",
       "      <td>75591.66</td>\n",
       "      <td>56065.84</td>\n",
       "      <td>19525.82</td>\n",
       "    </tr>\n",
       "    <tr>\n",
       "      <th>4</th>\n",
       "      <td>Sub-Saharan Africa</td>\n",
       "      <td>Rwanda</td>\n",
       "      <td>Office Supplies</td>\n",
       "      <td>Offline</td>\n",
       "      <td>L</td>\n",
       "      <td>2/1/2013</td>\n",
       "      <td>115456712</td>\n",
       "      <td>2/6/2013</td>\n",
       "      <td>5062</td>\n",
       "      <td>651.21</td>\n",
       "      <td>524.96</td>\n",
       "      <td>3296425.02</td>\n",
       "      <td>2657347.52</td>\n",
       "      <td>639077.50</td>\n",
       "    </tr>\n",
       "  </tbody>\n",
       "</table>\n",
       "</div>"
      ],
      "text/plain": [
       "                              Region                Country        Item Type  \\\n",
       "0              Australia and Oceania                 Tuvalu        Baby Food   \n",
       "1  Central America and the Caribbean                Grenada           Cereal   \n",
       "2                             Europe                 Russia  Office Supplies   \n",
       "3                 Sub-Saharan Africa  Sao Tome and Principe           Fruits   \n",
       "4                 Sub-Saharan Africa                 Rwanda  Office Supplies   \n",
       "\n",
       "  Sales Channel Order Priority Order Date   Order ID  Ship Date  Units Sold  \\\n",
       "0       Offline              H  5/28/2010  669165933  6/27/2010        9925   \n",
       "1        Online              C  8/22/2012  963881480  9/15/2012        2804   \n",
       "2       Offline              L   5/2/2014  341417157   5/8/2014        1779   \n",
       "3        Online              C  6/20/2014  514321792   7/5/2014        8102   \n",
       "4       Offline              L   2/1/2013  115456712   2/6/2013        5062   \n",
       "\n",
       "   Unit Price  Unit Cost  Total Revenue  Total Cost  Total Profit  \n",
       "0      255.28     159.42     2533654.00  1582243.50     951410.50  \n",
       "1      205.70     117.11      576782.80   328376.44     248406.36  \n",
       "2      651.21     524.96     1158502.59   933903.84     224598.75  \n",
       "3        9.33       6.92       75591.66    56065.84      19525.82  \n",
       "4      651.21     524.96     3296425.02  2657347.52     639077.50  "
      ]
     },
     "execution_count": 3,
     "metadata": {},
     "output_type": "execute_result"
    }
   ],
   "source": [
    "df.head()"
   ]
  },
  {
   "cell_type": "code",
   "execution_count": 4,
   "metadata": {},
   "outputs": [
    {
     "data": {
      "text/html": [
       "<div>\n",
       "<style scoped>\n",
       "    .dataframe tbody tr th:only-of-type {\n",
       "        vertical-align: middle;\n",
       "    }\n",
       "\n",
       "    .dataframe tbody tr th {\n",
       "        vertical-align: top;\n",
       "    }\n",
       "\n",
       "    .dataframe thead th {\n",
       "        text-align: right;\n",
       "    }\n",
       "</style>\n",
       "<table border=\"1\" class=\"dataframe\">\n",
       "  <thead>\n",
       "    <tr style=\"text-align: right;\">\n",
       "      <th></th>\n",
       "      <th>region</th>\n",
       "      <th>country</th>\n",
       "      <th>item_type</th>\n",
       "      <th>sales_channel</th>\n",
       "      <th>order_priority</th>\n",
       "      <th>order_date</th>\n",
       "      <th>order_id</th>\n",
       "      <th>ship_date</th>\n",
       "      <th>units_sold</th>\n",
       "      <th>unit_price</th>\n",
       "      <th>unit_cost</th>\n",
       "      <th>total_revenue</th>\n",
       "      <th>total_cost</th>\n",
       "      <th>total_profit</th>\n",
       "    </tr>\n",
       "  </thead>\n",
       "  <tbody>\n",
       "    <tr>\n",
       "      <th>0</th>\n",
       "      <td>Australia and Oceania</td>\n",
       "      <td>Tuvalu</td>\n",
       "      <td>Baby Food</td>\n",
       "      <td>Offline</td>\n",
       "      <td>H</td>\n",
       "      <td>5/28/2010</td>\n",
       "      <td>669165933</td>\n",
       "      <td>6/27/2010</td>\n",
       "      <td>9925</td>\n",
       "      <td>255.28</td>\n",
       "      <td>159.42</td>\n",
       "      <td>2533654.0</td>\n",
       "      <td>1582243.50</td>\n",
       "      <td>951410.50</td>\n",
       "    </tr>\n",
       "    <tr>\n",
       "      <th>1</th>\n",
       "      <td>Central America and the Caribbean</td>\n",
       "      <td>Grenada</td>\n",
       "      <td>Cereal</td>\n",
       "      <td>Online</td>\n",
       "      <td>C</td>\n",
       "      <td>8/22/2012</td>\n",
       "      <td>963881480</td>\n",
       "      <td>9/15/2012</td>\n",
       "      <td>2804</td>\n",
       "      <td>205.70</td>\n",
       "      <td>117.11</td>\n",
       "      <td>576782.8</td>\n",
       "      <td>328376.44</td>\n",
       "      <td>248406.36</td>\n",
       "    </tr>\n",
       "  </tbody>\n",
       "</table>\n",
       "</div>"
      ],
      "text/plain": [
       "                              region  country  item_type sales_channel  \\\n",
       "0              Australia and Oceania   Tuvalu  Baby Food       Offline   \n",
       "1  Central America and the Caribbean  Grenada     Cereal        Online   \n",
       "\n",
       "  order_priority order_date   order_id  ship_date  units_sold  unit_price  \\\n",
       "0              H  5/28/2010  669165933  6/27/2010        9925      255.28   \n",
       "1              C  8/22/2012  963881480  9/15/2012        2804      205.70   \n",
       "\n",
       "   unit_cost  total_revenue  total_cost  total_profit  \n",
       "0     159.42      2533654.0  1582243.50     951410.50  \n",
       "1     117.11       576782.8   328376.44     248406.36  "
      ]
     },
     "execution_count": 4,
     "metadata": {},
     "output_type": "execute_result"
    }
   ],
   "source": [
    "df.columns = [col.lower().replace(' ', '_') for col in df.columns]\n",
    "df.head(2)"
   ]
  },
  {
   "cell_type": "code",
   "execution_count": 5,
   "metadata": {
    "colab": {
     "base_uri": "https://localhost:8080/"
    },
    "executionInfo": {
     "elapsed": 482,
     "status": "ok",
     "timestamp": 1723283454031,
     "user": {
      "displayName": "Rwitankar Saha",
      "userId": "01902924201585853563"
     },
     "user_tz": -330
    },
    "id": "3od0WWD8rS2l",
    "outputId": "67636a71-cdd6-42fe-e8e2-604326023c78"
   },
   "outputs": [
    {
     "name": "stdout",
     "output_type": "stream",
     "text": [
      "Rows: 100\n",
      "Columns: 14\n"
     ]
    }
   ],
   "source": [
    "print(f\"Rows: {df.shape[0]}\")\n",
    "print(f\"Columns: {df.shape[1]}\")"
   ]
  },
  {
   "cell_type": "code",
   "execution_count": 6,
   "metadata": {
    "colab": {
     "base_uri": "https://localhost:8080/"
    },
    "executionInfo": {
     "elapsed": 526,
     "status": "ok",
     "timestamp": 1723283024822,
     "user": {
      "displayName": "Rwitankar Saha",
      "userId": "01902924201585853563"
     },
     "user_tz": -330
    },
    "id": "Q3BY7YhOovGY",
    "outputId": "8db6d35b-c549-4b2c-83e1-e84127e27067"
   },
   "outputs": [
    {
     "name": "stdout",
     "output_type": "stream",
     "text": [
      "<class 'pandas.core.frame.DataFrame'>\n",
      "RangeIndex: 100 entries, 0 to 99\n",
      "Data columns (total 14 columns):\n",
      " #   Column          Non-Null Count  Dtype  \n",
      "---  ------          --------------  -----  \n",
      " 0   region          100 non-null    object \n",
      " 1   country         100 non-null    object \n",
      " 2   item_type       100 non-null    object \n",
      " 3   sales_channel   100 non-null    object \n",
      " 4   order_priority  100 non-null    object \n",
      " 5   order_date      100 non-null    object \n",
      " 6   order_id        100 non-null    int64  \n",
      " 7   ship_date       100 non-null    object \n",
      " 8   units_sold      100 non-null    int64  \n",
      " 9   unit_price      100 non-null    float64\n",
      " 10  unit_cost       100 non-null    float64\n",
      " 11  total_revenue   100 non-null    float64\n",
      " 12  total_cost      100 non-null    float64\n",
      " 13  total_profit    100 non-null    float64\n",
      "dtypes: float64(5), int64(2), object(7)\n",
      "memory usage: 11.1+ KB\n"
     ]
    }
   ],
   "source": [
    "df.info()"
   ]
  },
  {
   "cell_type": "code",
   "execution_count": 7,
   "metadata": {
    "colab": {
     "base_uri": "https://localhost:8080/",
     "height": 523
    },
    "executionInfo": {
     "elapsed": 518,
     "status": "ok",
     "timestamp": 1723283134707,
     "user": {
      "displayName": "Rwitankar Saha",
      "userId": "01902924201585853563"
     },
     "user_tz": -330
    },
    "id": "N881veyfrSgn",
    "outputId": "1f78b8ee-d98d-49c6-df08-258b25e91075"
   },
   "outputs": [
    {
     "data": {
      "text/plain": [
       "region            0\n",
       "country           0\n",
       "item_type         0\n",
       "sales_channel     0\n",
       "order_priority    0\n",
       "order_date        0\n",
       "order_id          0\n",
       "ship_date         0\n",
       "units_sold        0\n",
       "unit_price        0\n",
       "unit_cost         0\n",
       "total_revenue     0\n",
       "total_cost        0\n",
       "total_profit      0\n",
       "dtype: int64"
      ]
     },
     "execution_count": 7,
     "metadata": {},
     "output_type": "execute_result"
    }
   ],
   "source": [
    "df.isnull().sum()"
   ]
  },
  {
   "cell_type": "code",
   "execution_count": 8,
   "metadata": {
    "colab": {
     "base_uri": "https://localhost:8080/",
     "height": 300
    },
    "executionInfo": {
     "elapsed": 497,
     "status": "ok",
     "timestamp": 1723283610188,
     "user": {
      "displayName": "Rwitankar Saha",
      "userId": "01902924201585853563"
     },
     "user_tz": -330
    },
    "id": "D7LB6GrztL-Y",
    "outputId": "ecdb14f7-ea22-4454-bd72-ce67ac6270a6"
   },
   "outputs": [
    {
     "name": "stdout",
     "output_type": "stream",
     "text": [
      "Number of unique values per column\n"
     ]
    },
    {
     "data": {
      "text/plain": [
       "region              7\n",
       "country            76\n",
       "item_type          12\n",
       "sales_channel       2\n",
       "order_priority      4\n",
       "order_date        100\n",
       "order_id          100\n",
       "ship_date          99\n",
       "units_sold         99\n",
       "unit_price         12\n",
       "unit_cost          12\n",
       "total_revenue     100\n",
       "total_cost        100\n",
       "total_profit      100\n",
       "dtype: int64"
      ]
     },
     "execution_count": 8,
     "metadata": {},
     "output_type": "execute_result"
    }
   ],
   "source": [
    "print('Number of unique values per column')\n",
    "df.nunique()"
   ]
  },
  {
   "cell_type": "code",
   "execution_count": 9,
   "metadata": {
    "colab": {
     "base_uri": "https://localhost:8080/"
    },
    "executionInfo": {
     "elapsed": 496,
     "status": "ok",
     "timestamp": 1723283534993,
     "user": {
      "displayName": "Rwitankar Saha",
      "userId": "01902924201585853563"
     },
     "user_tz": -330
    },
    "id": "5p2R1ZlrstXt",
    "outputId": "496d513a-ab38-4755-bf52-aa053612ffc0"
   },
   "outputs": [
    {
     "name": "stdout",
     "output_type": "stream",
     "text": [
      "Number of duplicate rows: 0\n"
     ]
    }
   ],
   "source": [
    "dpl = df[df.duplicated()]\n",
    "print(f\"Number of duplicate rows: {dpl.shape[0]}\")"
   ]
  },
  {
   "cell_type": "code",
   "execution_count": 10,
   "metadata": {
    "colab": {
     "base_uri": "https://localhost:8080/",
     "height": 300
    },
    "executionInfo": {
     "elapsed": 497,
     "status": "ok",
     "timestamp": 1723283610188,
     "user": {
      "displayName": "Rwitankar Saha",
      "userId": "01902924201585853563"
     },
     "user_tz": -330
    },
    "id": "D7LB6GrztL-Y",
    "outputId": "ecdb14f7-ea22-4454-bd72-ce67ac6270a6"
   },
   "outputs": [
    {
     "data": {
      "text/html": [
       "<div>\n",
       "<style scoped>\n",
       "    .dataframe tbody tr th:only-of-type {\n",
       "        vertical-align: middle;\n",
       "    }\n",
       "\n",
       "    .dataframe tbody tr th {\n",
       "        vertical-align: top;\n",
       "    }\n",
       "\n",
       "    .dataframe thead th {\n",
       "        text-align: right;\n",
       "    }\n",
       "</style>\n",
       "<table border=\"1\" class=\"dataframe\">\n",
       "  <thead>\n",
       "    <tr style=\"text-align: right;\">\n",
       "      <th></th>\n",
       "      <th>order_id</th>\n",
       "      <th>units_sold</th>\n",
       "      <th>unit_price</th>\n",
       "      <th>unit_cost</th>\n",
       "      <th>total_revenue</th>\n",
       "      <th>total_cost</th>\n",
       "      <th>total_profit</th>\n",
       "    </tr>\n",
       "  </thead>\n",
       "  <tbody>\n",
       "    <tr>\n",
       "      <th>count</th>\n",
       "      <td>1.000000e+02</td>\n",
       "      <td>100.000000</td>\n",
       "      <td>100.000000</td>\n",
       "      <td>100.000000</td>\n",
       "      <td>1.000000e+02</td>\n",
       "      <td>1.000000e+02</td>\n",
       "      <td>1.000000e+02</td>\n",
       "    </tr>\n",
       "    <tr>\n",
       "      <th>mean</th>\n",
       "      <td>5.550204e+08</td>\n",
       "      <td>5128.710000</td>\n",
       "      <td>276.761300</td>\n",
       "      <td>191.048000</td>\n",
       "      <td>1.373488e+06</td>\n",
       "      <td>9.318057e+05</td>\n",
       "      <td>4.416820e+05</td>\n",
       "    </tr>\n",
       "    <tr>\n",
       "      <th>std</th>\n",
       "      <td>2.606153e+08</td>\n",
       "      <td>2794.484562</td>\n",
       "      <td>235.592241</td>\n",
       "      <td>188.208181</td>\n",
       "      <td>1.460029e+06</td>\n",
       "      <td>1.083938e+06</td>\n",
       "      <td>4.385379e+05</td>\n",
       "    </tr>\n",
       "    <tr>\n",
       "      <th>min</th>\n",
       "      <td>1.146066e+08</td>\n",
       "      <td>124.000000</td>\n",
       "      <td>9.330000</td>\n",
       "      <td>6.920000</td>\n",
       "      <td>4.870260e+03</td>\n",
       "      <td>3.612240e+03</td>\n",
       "      <td>1.258020e+03</td>\n",
       "    </tr>\n",
       "    <tr>\n",
       "      <th>25%</th>\n",
       "      <td>3.389225e+08</td>\n",
       "      <td>2836.250000</td>\n",
       "      <td>81.730000</td>\n",
       "      <td>35.840000</td>\n",
       "      <td>2.687212e+05</td>\n",
       "      <td>1.688680e+05</td>\n",
       "      <td>1.214436e+05</td>\n",
       "    </tr>\n",
       "    <tr>\n",
       "      <th>50%</th>\n",
       "      <td>5.577086e+08</td>\n",
       "      <td>5382.500000</td>\n",
       "      <td>179.880000</td>\n",
       "      <td>107.275000</td>\n",
       "      <td>7.523144e+05</td>\n",
       "      <td>3.635664e+05</td>\n",
       "      <td>2.907680e+05</td>\n",
       "    </tr>\n",
       "    <tr>\n",
       "      <th>75%</th>\n",
       "      <td>7.907551e+08</td>\n",
       "      <td>7369.000000</td>\n",
       "      <td>437.200000</td>\n",
       "      <td>263.330000</td>\n",
       "      <td>2.212045e+06</td>\n",
       "      <td>1.613870e+06</td>\n",
       "      <td>6.358288e+05</td>\n",
       "    </tr>\n",
       "    <tr>\n",
       "      <th>max</th>\n",
       "      <td>9.940222e+08</td>\n",
       "      <td>9925.000000</td>\n",
       "      <td>668.270000</td>\n",
       "      <td>524.960000</td>\n",
       "      <td>5.997055e+06</td>\n",
       "      <td>4.509794e+06</td>\n",
       "      <td>1.719922e+06</td>\n",
       "    </tr>\n",
       "  </tbody>\n",
       "</table>\n",
       "</div>"
      ],
      "text/plain": [
       "           order_id   units_sold  unit_price   unit_cost  total_revenue  \\\n",
       "count  1.000000e+02   100.000000  100.000000  100.000000   1.000000e+02   \n",
       "mean   5.550204e+08  5128.710000  276.761300  191.048000   1.373488e+06   \n",
       "std    2.606153e+08  2794.484562  235.592241  188.208181   1.460029e+06   \n",
       "min    1.146066e+08   124.000000    9.330000    6.920000   4.870260e+03   \n",
       "25%    3.389225e+08  2836.250000   81.730000   35.840000   2.687212e+05   \n",
       "50%    5.577086e+08  5382.500000  179.880000  107.275000   7.523144e+05   \n",
       "75%    7.907551e+08  7369.000000  437.200000  263.330000   2.212045e+06   \n",
       "max    9.940222e+08  9925.000000  668.270000  524.960000   5.997055e+06   \n",
       "\n",
       "         total_cost  total_profit  \n",
       "count  1.000000e+02  1.000000e+02  \n",
       "mean   9.318057e+05  4.416820e+05  \n",
       "std    1.083938e+06  4.385379e+05  \n",
       "min    3.612240e+03  1.258020e+03  \n",
       "25%    1.688680e+05  1.214436e+05  \n",
       "50%    3.635664e+05  2.907680e+05  \n",
       "75%    1.613870e+06  6.358288e+05  \n",
       "max    4.509794e+06  1.719922e+06  "
      ]
     },
     "execution_count": 10,
     "metadata": {},
     "output_type": "execute_result"
    }
   ],
   "source": [
    "df.describe()"
   ]
  },
  {
   "cell_type": "code",
   "execution_count": 11,
   "metadata": {},
   "outputs": [],
   "source": [
    "df['order_date'] = pd.to_datetime(df['order_date'], format='%m/%d/%Y')\n",
    "df['ship_date'] = pd.to_datetime(df['ship_date'], format='%m/%d/%Y')"
   ]
  },
  {
   "cell_type": "code",
   "execution_count": 12,
   "metadata": {},
   "outputs": [],
   "source": [
    "df['year'] = df['order_date'].dt.year\n",
    "df['month'] = df['order_date'].dt.month"
   ]
  },
  {
   "cell_type": "code",
   "execution_count": 13,
   "metadata": {},
   "outputs": [
    {
     "data": {
      "text/plain": [
       "0    2010-05\n",
       "1    2012-08\n",
       "2    2014-05\n",
       "3    2014-06\n",
       "4    2013-02\n",
       "Name: year_month_number, dtype: object"
      ]
     },
     "execution_count": 13,
     "metadata": {},
     "output_type": "execute_result"
    }
   ],
   "source": [
    "df['year_month_number'] = df['order_date'].dt.strftime('%Y-%m')\n",
    "df['year_month_number'].head()"
   ]
  },
  {
   "cell_type": "code",
   "execution_count": 14,
   "metadata": {},
   "outputs": [
    {
     "data": {
      "text/html": [
       "<div>\n",
       "<style scoped>\n",
       "    .dataframe tbody tr th:only-of-type {\n",
       "        vertical-align: middle;\n",
       "    }\n",
       "\n",
       "    .dataframe tbody tr th {\n",
       "        vertical-align: top;\n",
       "    }\n",
       "\n",
       "    .dataframe thead th {\n",
       "        text-align: right;\n",
       "    }\n",
       "</style>\n",
       "<table border=\"1\" class=\"dataframe\">\n",
       "  <thead>\n",
       "    <tr style=\"text-align: right;\">\n",
       "      <th></th>\n",
       "      <th>region</th>\n",
       "      <th>country</th>\n",
       "      <th>item_type</th>\n",
       "      <th>sales_channel</th>\n",
       "      <th>order_priority</th>\n",
       "      <th>order_date</th>\n",
       "      <th>order_id</th>\n",
       "      <th>ship_date</th>\n",
       "      <th>units_sold</th>\n",
       "      <th>unit_price</th>\n",
       "      <th>unit_cost</th>\n",
       "      <th>total_revenue</th>\n",
       "      <th>total_cost</th>\n",
       "      <th>total_profit</th>\n",
       "      <th>year</th>\n",
       "      <th>month</th>\n",
       "      <th>year_month_number</th>\n",
       "    </tr>\n",
       "  </thead>\n",
       "  <tbody>\n",
       "    <tr>\n",
       "      <th>0</th>\n",
       "      <td>Australia and Oceania</td>\n",
       "      <td>Tuvalu</td>\n",
       "      <td>Baby Food</td>\n",
       "      <td>Offline</td>\n",
       "      <td>H</td>\n",
       "      <td>2010-05-28</td>\n",
       "      <td>669165933</td>\n",
       "      <td>2010-06-27</td>\n",
       "      <td>9925</td>\n",
       "      <td>255.28</td>\n",
       "      <td>159.42</td>\n",
       "      <td>2533654.00</td>\n",
       "      <td>1582243.50</td>\n",
       "      <td>951410.50</td>\n",
       "      <td>2010</td>\n",
       "      <td>5</td>\n",
       "      <td>2010-05</td>\n",
       "    </tr>\n",
       "    <tr>\n",
       "      <th>1</th>\n",
       "      <td>Central America and the Caribbean</td>\n",
       "      <td>Grenada</td>\n",
       "      <td>Cereal</td>\n",
       "      <td>Online</td>\n",
       "      <td>C</td>\n",
       "      <td>2012-08-22</td>\n",
       "      <td>963881480</td>\n",
       "      <td>2012-09-15</td>\n",
       "      <td>2804</td>\n",
       "      <td>205.70</td>\n",
       "      <td>117.11</td>\n",
       "      <td>576782.80</td>\n",
       "      <td>328376.44</td>\n",
       "      <td>248406.36</td>\n",
       "      <td>2012</td>\n",
       "      <td>8</td>\n",
       "      <td>2012-08</td>\n",
       "    </tr>\n",
       "    <tr>\n",
       "      <th>2</th>\n",
       "      <td>Europe</td>\n",
       "      <td>Russia</td>\n",
       "      <td>Office Supplies</td>\n",
       "      <td>Offline</td>\n",
       "      <td>L</td>\n",
       "      <td>2014-05-02</td>\n",
       "      <td>341417157</td>\n",
       "      <td>2014-05-08</td>\n",
       "      <td>1779</td>\n",
       "      <td>651.21</td>\n",
       "      <td>524.96</td>\n",
       "      <td>1158502.59</td>\n",
       "      <td>933903.84</td>\n",
       "      <td>224598.75</td>\n",
       "      <td>2014</td>\n",
       "      <td>5</td>\n",
       "      <td>2014-05</td>\n",
       "    </tr>\n",
       "    <tr>\n",
       "      <th>3</th>\n",
       "      <td>Sub-Saharan Africa</td>\n",
       "      <td>Sao Tome and Principe</td>\n",
       "      <td>Fruits</td>\n",
       "      <td>Online</td>\n",
       "      <td>C</td>\n",
       "      <td>2014-06-20</td>\n",
       "      <td>514321792</td>\n",
       "      <td>2014-07-05</td>\n",
       "      <td>8102</td>\n",
       "      <td>9.33</td>\n",
       "      <td>6.92</td>\n",
       "      <td>75591.66</td>\n",
       "      <td>56065.84</td>\n",
       "      <td>19525.82</td>\n",
       "      <td>2014</td>\n",
       "      <td>6</td>\n",
       "      <td>2014-06</td>\n",
       "    </tr>\n",
       "    <tr>\n",
       "      <th>4</th>\n",
       "      <td>Sub-Saharan Africa</td>\n",
       "      <td>Rwanda</td>\n",
       "      <td>Office Supplies</td>\n",
       "      <td>Offline</td>\n",
       "      <td>L</td>\n",
       "      <td>2013-02-01</td>\n",
       "      <td>115456712</td>\n",
       "      <td>2013-02-06</td>\n",
       "      <td>5062</td>\n",
       "      <td>651.21</td>\n",
       "      <td>524.96</td>\n",
       "      <td>3296425.02</td>\n",
       "      <td>2657347.52</td>\n",
       "      <td>639077.50</td>\n",
       "      <td>2013</td>\n",
       "      <td>2</td>\n",
       "      <td>2013-02</td>\n",
       "    </tr>\n",
       "  </tbody>\n",
       "</table>\n",
       "</div>"
      ],
      "text/plain": [
       "                              region                country        item_type  \\\n",
       "0              Australia and Oceania                 Tuvalu        Baby Food   \n",
       "1  Central America and the Caribbean                Grenada           Cereal   \n",
       "2                             Europe                 Russia  Office Supplies   \n",
       "3                 Sub-Saharan Africa  Sao Tome and Principe           Fruits   \n",
       "4                 Sub-Saharan Africa                 Rwanda  Office Supplies   \n",
       "\n",
       "  sales_channel order_priority order_date   order_id  ship_date  units_sold  \\\n",
       "0       Offline              H 2010-05-28  669165933 2010-06-27        9925   \n",
       "1        Online              C 2012-08-22  963881480 2012-09-15        2804   \n",
       "2       Offline              L 2014-05-02  341417157 2014-05-08        1779   \n",
       "3        Online              C 2014-06-20  514321792 2014-07-05        8102   \n",
       "4       Offline              L 2013-02-01  115456712 2013-02-06        5062   \n",
       "\n",
       "   unit_price  unit_cost  total_revenue  total_cost  total_profit  year  \\\n",
       "0      255.28     159.42     2533654.00  1582243.50     951410.50  2010   \n",
       "1      205.70     117.11      576782.80   328376.44     248406.36  2012   \n",
       "2      651.21     524.96     1158502.59   933903.84     224598.75  2014   \n",
       "3        9.33       6.92       75591.66    56065.84      19525.82  2014   \n",
       "4      651.21     524.96     3296425.02  2657347.52     639077.50  2013   \n",
       "\n",
       "   month year_month_number  \n",
       "0      5           2010-05  \n",
       "1      8           2012-08  \n",
       "2      5           2014-05  \n",
       "3      6           2014-06  \n",
       "4      2           2013-02  "
      ]
     },
     "execution_count": 14,
     "metadata": {},
     "output_type": "execute_result"
    }
   ],
   "source": [
    "df.head()"
   ]
  },
  {
   "cell_type": "code",
   "execution_count": 15,
   "metadata": {},
   "outputs": [],
   "source": [
    "# Export the transformed data to CSV\n",
    "export_file_path = 'D:\\\\Project - Analyzing Amazon Sales Data\\\\Transformed_Amazon_Sales_data.csv'\n",
    "df.to_csv(export_file_path, index=False)"
   ]
  },
  {
   "cell_type": "markdown",
   "metadata": {
    "id": "2o_6y7jUv0og"
   },
   "source": [
    "**Exploratory Data Analysis (EDA)**"
   ]
  },
  {
   "cell_type": "code",
   "execution_count": 16,
   "metadata": {},
   "outputs": [
    {
     "data": {
      "text/html": [
       "<div>\n",
       "<style scoped>\n",
       "    .dataframe tbody tr th:only-of-type {\n",
       "        vertical-align: middle;\n",
       "    }\n",
       "\n",
       "    .dataframe tbody tr th {\n",
       "        vertical-align: top;\n",
       "    }\n",
       "\n",
       "    .dataframe thead th {\n",
       "        text-align: right;\n",
       "    }\n",
       "</style>\n",
       "<table border=\"1\" class=\"dataframe\">\n",
       "  <thead>\n",
       "    <tr style=\"text-align: right;\">\n",
       "      <th></th>\n",
       "      <th>year</th>\n",
       "      <th>total_revenue</th>\n",
       "      <th>total_profit</th>\n",
       "    </tr>\n",
       "  </thead>\n",
       "  <tbody>\n",
       "    <tr>\n",
       "      <th>0</th>\n",
       "      <td>2010</td>\n",
       "      <td>19186024.92</td>\n",
       "      <td>6629567.43</td>\n",
       "    </tr>\n",
       "    <tr>\n",
       "      <th>1</th>\n",
       "      <td>2011</td>\n",
       "      <td>11129166.07</td>\n",
       "      <td>2741008.23</td>\n",
       "    </tr>\n",
       "    <tr>\n",
       "      <th>2</th>\n",
       "      <td>2012</td>\n",
       "      <td>31898644.52</td>\n",
       "      <td>9213010.12</td>\n",
       "    </tr>\n",
       "    <tr>\n",
       "      <th>3</th>\n",
       "      <td>2013</td>\n",
       "      <td>20330448.66</td>\n",
       "      <td>6715420.04</td>\n",
       "    </tr>\n",
       "    <tr>\n",
       "      <th>4</th>\n",
       "      <td>2014</td>\n",
       "      <td>16630214.43</td>\n",
       "      <td>5879461.68</td>\n",
       "    </tr>\n",
       "    <tr>\n",
       "      <th>5</th>\n",
       "      <td>2015</td>\n",
       "      <td>12427982.86</td>\n",
       "      <td>3996539.44</td>\n",
       "    </tr>\n",
       "    <tr>\n",
       "      <th>6</th>\n",
       "      <td>2016</td>\n",
       "      <td>12372867.22</td>\n",
       "      <td>4903838.01</td>\n",
       "    </tr>\n",
       "    <tr>\n",
       "      <th>7</th>\n",
       "      <td>2017</td>\n",
       "      <td>13373419.63</td>\n",
       "      <td>4089353.45</td>\n",
       "    </tr>\n",
       "  </tbody>\n",
       "</table>\n",
       "</div>"
      ],
      "text/plain": [
       "   year  total_revenue  total_profit\n",
       "0  2010    19186024.92    6629567.43\n",
       "1  2011    11129166.07    2741008.23\n",
       "2  2012    31898644.52    9213010.12\n",
       "3  2013    20330448.66    6715420.04\n",
       "4  2014    16630214.43    5879461.68\n",
       "5  2015    12427982.86    3996539.44\n",
       "6  2016    12372867.22    4903838.01\n",
       "7  2017    13373419.63    4089353.45"
      ]
     },
     "execution_count": 16,
     "metadata": {},
     "output_type": "execute_result"
    }
   ],
   "source": [
    "yearly_sales_profit = df.groupby('year')[['total_revenue', 'total_profit']].sum().reset_index()\n",
    "\n",
    "# Display the result\n",
    "yearly_sales_profit"
   ]
  },
  {
   "cell_type": "code",
   "execution_count": 17,
   "metadata": {},
   "outputs": [
    {
     "name": "stdout",
     "output_type": "stream",
     "text": [
      "Total Sales: 137348768.31\n"
     ]
    }
   ],
   "source": [
    "total_sales = df['total_revenue'].sum()\n",
    "print('Total Sales:', total_sales)"
   ]
  },
  {
   "cell_type": "code",
   "execution_count": 18,
   "metadata": {},
   "outputs": [
    {
     "name": "stdout",
     "output_type": "stream",
     "text": [
      "Average Sale and Cost by Items\n"
     ]
    },
    {
     "data": {
      "text/html": [
       "<div>\n",
       "<style scoped>\n",
       "    .dataframe tbody tr th:only-of-type {\n",
       "        vertical-align: middle;\n",
       "    }\n",
       "\n",
       "    .dataframe tbody tr th {\n",
       "        vertical-align: top;\n",
       "    }\n",
       "\n",
       "    .dataframe thead th {\n",
       "        text-align: right;\n",
       "    }\n",
       "</style>\n",
       "<table border=\"1\" class=\"dataframe\">\n",
       "  <thead>\n",
       "    <tr style=\"text-align: right;\">\n",
       "      <th></th>\n",
       "      <th>item_type</th>\n",
       "      <th>unit_price</th>\n",
       "      <th>unit_cost</th>\n",
       "    </tr>\n",
       "  </thead>\n",
       "  <tbody>\n",
       "    <tr>\n",
       "      <th>0</th>\n",
       "      <td>Baby Food</td>\n",
       "      <td>255.28</td>\n",
       "      <td>159.42</td>\n",
       "    </tr>\n",
       "    <tr>\n",
       "      <th>1</th>\n",
       "      <td>Beverages</td>\n",
       "      <td>47.45</td>\n",
       "      <td>31.79</td>\n",
       "    </tr>\n",
       "    <tr>\n",
       "      <th>2</th>\n",
       "      <td>Cereal</td>\n",
       "      <td>205.70</td>\n",
       "      <td>117.11</td>\n",
       "    </tr>\n",
       "    <tr>\n",
       "      <th>3</th>\n",
       "      <td>Clothes</td>\n",
       "      <td>109.28</td>\n",
       "      <td>35.84</td>\n",
       "    </tr>\n",
       "    <tr>\n",
       "      <th>4</th>\n",
       "      <td>Cosmetics</td>\n",
       "      <td>437.20</td>\n",
       "      <td>263.33</td>\n",
       "    </tr>\n",
       "    <tr>\n",
       "      <th>5</th>\n",
       "      <td>Fruits</td>\n",
       "      <td>9.33</td>\n",
       "      <td>6.92</td>\n",
       "    </tr>\n",
       "    <tr>\n",
       "      <th>6</th>\n",
       "      <td>Household</td>\n",
       "      <td>668.27</td>\n",
       "      <td>502.54</td>\n",
       "    </tr>\n",
       "    <tr>\n",
       "      <th>7</th>\n",
       "      <td>Meat</td>\n",
       "      <td>421.89</td>\n",
       "      <td>364.69</td>\n",
       "    </tr>\n",
       "    <tr>\n",
       "      <th>8</th>\n",
       "      <td>Office Supplies</td>\n",
       "      <td>651.21</td>\n",
       "      <td>524.96</td>\n",
       "    </tr>\n",
       "    <tr>\n",
       "      <th>9</th>\n",
       "      <td>Personal Care</td>\n",
       "      <td>81.73</td>\n",
       "      <td>56.67</td>\n",
       "    </tr>\n",
       "    <tr>\n",
       "      <th>10</th>\n",
       "      <td>Snacks</td>\n",
       "      <td>152.58</td>\n",
       "      <td>97.44</td>\n",
       "    </tr>\n",
       "    <tr>\n",
       "      <th>11</th>\n",
       "      <td>Vegetables</td>\n",
       "      <td>154.06</td>\n",
       "      <td>90.93</td>\n",
       "    </tr>\n",
       "  </tbody>\n",
       "</table>\n",
       "</div>"
      ],
      "text/plain": [
       "          item_type  unit_price  unit_cost\n",
       "0         Baby Food      255.28     159.42\n",
       "1         Beverages       47.45      31.79\n",
       "2            Cereal      205.70     117.11\n",
       "3           Clothes      109.28      35.84\n",
       "4         Cosmetics      437.20     263.33\n",
       "5            Fruits        9.33       6.92\n",
       "6         Household      668.27     502.54\n",
       "7              Meat      421.89     364.69\n",
       "8   Office Supplies      651.21     524.96\n",
       "9     Personal Care       81.73      56.67\n",
       "10           Snacks      152.58      97.44\n",
       "11       Vegetables      154.06      90.93"
      ]
     },
     "execution_count": 18,
     "metadata": {},
     "output_type": "execute_result"
    }
   ],
   "source": [
    "item_price_cost = df.groupby('item_type')[['unit_price', 'unit_cost']].mean().reset_index()\n",
    "print('Average Sale and Cost by Items')\n",
    "item_price_cost"
   ]
  },
  {
   "cell_type": "code",
   "execution_count": 19,
   "metadata": {},
   "outputs": [
    {
     "data": {
      "text/plain": [
       "country\n",
       "Honduras        6336545.48\n",
       "Myanmar         6161257.90\n",
       "Djibouti        6052890.86\n",
       "Turkmenistan    5822036.20\n",
       "Mexico          5643356.55\n",
       "Name: total_revenue, dtype: float64"
      ]
     },
     "execution_count": 19,
     "metadata": {},
     "output_type": "execute_result"
    }
   ],
   "source": [
    "# Group by the combined 'region_country' column and sum the 'total_revenue', then sort and get the top 5\n",
    "top_countries_sales = df.groupby('country')['total_revenue'].sum().nlargest(5)\n",
    "top_countries_sales"
   ]
  },
  {
   "cell_type": "code",
   "execution_count": 20,
   "metadata": {},
   "outputs": [
    {
     "name": "stdout",
     "output_type": "stream",
     "text": [
      "Unit Sold by Item Type:\n",
      "item_type\n",
      "Baby Food          40545\n",
      "Beverages          56708\n",
      "Cereal             25877\n",
      "Clothes            71260\n",
      "Cosmetics          83718\n",
      "Fruits             49998\n",
      "Household          44727\n",
      "Meat               10675\n",
      "Office Supplies    46967\n",
      "Personal Care      48708\n",
      "Snacks             13637\n",
      "Vegetables         20051\n",
      "Name: units_sold, dtype: int64\n"
     ]
    }
   ],
   "source": [
    "# Group by 'Item Type' and sum the 'Units Sold'\n",
    "units_sold_by_item = df.groupby('item_type')['units_sold'].sum()\n",
    "print(f'Unit Sold by Item Type:\\n{units_sold_by_item}')"
   ]
  },
  {
   "cell_type": "code",
   "execution_count": 21,
   "metadata": {
    "colab": {
     "base_uri": "https://localhost:8080/",
     "height": 564
    },
    "executionInfo": {
     "elapsed": 2091,
     "status": "ok",
     "timestamp": 1723284743306,
     "user": {
      "displayName": "Rwitankar Saha",
      "userId": "01902924201585853563"
     },
     "user_tz": -330
    },
    "id": "ptKdckyBuINF",
    "outputId": "eef37648-32ed-4ce1-93d4-54498de0ee0a"
   },
   "outputs": [
    {
     "name": "stdout",
     "output_type": "stream",
     "text": [
      "\u001b[1mSales Trend Year Wise:\u001b[0m\n",
      "   year  total_revenue\n",
      "0  2010    19186024.92\n",
      "1  2011    11129166.07\n",
      "2  2012    31898644.52\n",
      "3  2013    20330448.66\n",
      "4  2014    16630214.43\n",
      "5  2015    12427982.86\n",
      "6  2016    12372867.22\n",
      "7  2017    13373419.63\n"
     ]
    }
   ],
   "source": [
    "# Sales Trend: Year-wise\n",
    "yearly_sales = df.groupby('year')['total_revenue'].sum().reset_index()\n",
    "\n",
    "# ANSI escape code for bold text\n",
    "bold = '\\033[1m'\n",
    "reset = '\\033[0m'\n",
    "\n",
    "print(f'{bold}Sales Trend Year Wise:{reset}\\n{yearly_sales}')"
   ]
  },
  {
   "cell_type": "code",
   "execution_count": 25,
   "metadata": {
    "colab": {
     "base_uri": "https://localhost:8080/",
     "height": 655
    },
    "executionInfo": {
     "elapsed": 1996,
     "status": "ok",
     "timestamp": 1723284845796,
     "user": {
      "displayName": "Rwitankar Saha",
      "userId": "01902924201585853563"
     },
     "user_tz": -330
    },
    "id": "SdpUnL23x1z5",
    "outputId": "889bf5b1-8377-42b2-b38a-d450fe159d56"
   },
   "outputs": [
    {
     "name": "stdout",
     "output_type": "stream",
     "text": [
      "\u001b[1mSales Trend Yearly Month-Wise:\u001b[0m\n",
      "month          1           2          3           4           5           6   \\\n",
      "year                                                                           \n",
      "2010         0.00  3410661.12       0.00        0.00  2587973.26  1082418.40   \n",
      "2011   1042225.35   387002.20       0.00  2798046.49   272410.45    19103.44   \n",
      "2012   1012884.00  6707849.42  994765.42  4556012.38  3782781.82  2132075.27   \n",
      "2013         0.00  3296425.02  835759.10  3262562.10        0.00  1352867.40   \n",
      "2014         0.00  1819660.25       0.00  4510578.10  3060338.59    75591.66   \n",
      "2015   5513227.50  2003911.12       0.00  1059987.26        0.00        0.00   \n",
      "2016         0.00        0.00  197883.40        0.00   414371.10   568269.60   \n",
      "2017   2914130.27  7115008.64  246415.95        0.00  3097864.77        0.00   \n",
      "\n",
      "month          7          8           9           10          11          12  \n",
      "year                                                                          \n",
      "2010         0.00       0.00        0.00  6064933.75  3458252.00  2581786.39  \n",
      "2011     97040.64       0.00   574951.92        0.00  5938385.58        0.00  \n",
      "2012   4445093.92  576782.80  4648152.72  3042246.77        0.00        0.00  \n",
      "2013   8545511.20   89623.98    71253.21  2702770.40        0.00   173676.25  \n",
      "2014    688641.85  455479.04    20404.71  1352370.65  4647149.58        0.00  \n",
      "2015   1292409.45    6279.09        0.00  1904138.04   648030.40        0.00  \n",
      "2016    600821.44       0.00        0.00   221117.00  5876405.20  4493999.48  \n",
      "2017         0.00       0.00        0.00        0.00        0.00        0.00  \n"
     ]
    }
   ],
   "source": [
    "year_month_sales = df.groupby(['year', 'month'])['total_revenue'].sum().unstack().fillna(0)\n",
    "\n",
    "bold = '\\033[1m'\n",
    "reset = '\\033[0m'\n",
    "\n",
    "print(f'{bold}Sales Trend Yearly Month-Wise:{reset}\\n{year_month_sales}')"
   ]
  },
  {
   "cell_type": "code",
   "execution_count": 28,
   "metadata": {},
   "outputs": [
    {
     "name": "stdout",
     "output_type": "stream",
     "text": [
      "Total Profit Margin: 32.16%\n"
     ]
    }
   ],
   "source": [
    "total_profit_margin = (df['total_profit'].sum() / df['total_revenue'].sum()) * 100\n",
    "print(f'Total Profit Margin: {total_profit_margin:.2f}%')"
   ]
  },
  {
   "cell_type": "code",
   "execution_count": 20,
   "metadata": {},
   "outputs": [
    {
     "name": "stdout",
     "output_type": "stream",
     "text": [
      "Total Profit by Year:\n",
      "order_date\n",
      "2010    6629567.43\n",
      "2011    2741008.23\n",
      "2012    9213010.12\n",
      "2013    6715420.04\n",
      "2014    5879461.68\n",
      "2015    3996539.44\n",
      "2016    4903838.01\n",
      "2017    4089353.45\n",
      "Name: total_profit, dtype: float64\n",
      "\n",
      "Profit MTD by Year and Month:\n",
      "order_date  order_date\n",
      "2010        2             1424410.94\n",
      "            5              965441.52\n",
      "            6              727423.20\n",
      "            10            1495392.79\n",
      "            11            1375311.70\n",
      "            12             641587.28\n",
      "2011        1              363509.04\n",
      "            2              127722.96\n",
      "            4              693911.51\n",
      "            5               89904.06\n",
      "            6                7828.12\n",
      "            7               65214.72\n",
      "            9              235601.16\n",
      "            11            1157316.66\n",
      "2012        1              206568.36\n",
      "            2             1553766.98\n",
      "            3              407630.41\n",
      "            4              971008.14\n",
      "            5             1218518.14\n",
      "            6              698414.36\n",
      "            7             1065073.62\n",
      "            8              248406.36\n",
      "            9             2084889.03\n",
      "            10             758734.72\n",
      "2013        2              639077.50\n",
      "            3              359941.17\n",
      "            4              632512.50\n",
      "            6              515753.38\n",
      "            7             3398463.02\n",
      "            8               23150.46\n",
      "            9               18405.17\n",
      "            10            1074864.34\n",
      "            12              53252.50\n",
      "2014        2              655704.80\n",
      "            4             1838545.92\n",
      "            5              938755.75\n",
      "            6               19525.82\n",
      "            7              227273.58\n",
      "            8              306097.92\n",
      "            9                5270.67\n",
      "            10             735800.80\n",
      "            11            1152486.42\n",
      "2015        1             1367272.50\n",
      "            2              780095.53\n",
      "            4              624230.28\n",
      "            7              418665.00\n",
      "            8                1621.93\n",
      "            10             369155.00\n",
      "            11             435499.20\n",
      "2016        3               85223.58\n",
      "            5              127054.20\n",
      "            6              216434.55\n",
      "            7              403773.12\n",
      "            10              72975.60\n",
      "            11            2336986.67\n",
      "            12            1661390.29\n",
      "2017        1              879507.12\n",
      "            2             1891271.80\n",
      "            3               75555.90\n",
      "            5             1243018.63\n",
      "Name: total_profit, dtype: float64\n"
     ]
    }
   ],
   "source": [
    "# Group by year and sum total profit\n",
    "total_profit_by_year = df.groupby(df['order_date'].dt.year)['total_profit'].sum()\n",
    "\n",
    "# Group by year and month, sum total profit for profit MTD (Month-to-Date)\n",
    "profit_mtd_by_year = df.groupby([df['order_date'].dt.year, df['order_date'].dt.month])['total_profit'].sum()\n",
    "\n",
    "print(f'Total Profit by Year:\\n{total_profit_by_year}')\n",
    "\n",
    "print(f'\\nProfit MTD by Year and Month:\\n{profit_mtd_by_year}')"
   ]
  },
  {
   "cell_type": "code",
   "execution_count": 30,
   "metadata": {},
   "outputs": [
    {
     "name": "stdout",
     "output_type": "stream",
     "text": [
      "Total Profit by Sales Channel:\n",
      "sales_channel\n",
      "Offline    24920726.67\n",
      "Online     19247471.73\n",
      "Name: total_profit, dtype: float64\n"
     ]
    }
   ],
   "source": [
    "# total_profit_by_channel = df.groupby('sales_channel')['total_profit'].sum()\n",
    "# print(f'Total Profit by Sales Channel:\\n{total_profit_by_channel}') code need as per year"
   ]
  },
  {
   "cell_type": "code",
   "execution_count": 31,
   "metadata": {},
   "outputs": [
    {
     "name": "stdout",
     "output_type": "stream",
     "text": [
      "Profit by Top 5 Items:\n",
      "item_type\n",
      "Cosmetics          14556048.66\n",
      "Household           7412605.71\n",
      "Office Supplies     5929583.75\n",
      "Clothes             5233334.40\n",
      "Baby Food           3886643.70\n",
      "Name: total_profit, dtype: float64\n"
     ]
    }
   ],
   "source": [
    "# top_5_items_profit = df.groupby('item_type')['total_profit'].sum().nlargest(5)\n",
    "# print(f'Profit by Top 5 Items:\\n{top_5_items_profit}') code need as per year"
   ]
  },
  {
   "cell_type": "code",
   "execution_count": 33,
   "metadata": {},
   "outputs": [
    {
     "name": "stdout",
     "output_type": "stream",
     "text": [
      "Profit by Country:\n",
      "country\n",
      "Albania            166635.36\n",
      "Angola             693911.51\n",
      "Australia          576605.12\n",
      "Austria            495007.89\n",
      "Azerbaijan        1512926.83\n",
      "                     ...    \n",
      "The Gambia        1385883.27\n",
      "Turkmenistan      1267258.40\n",
      "Tuvalu             951410.50\n",
      "United Kingdom      46735.86\n",
      "Zambia             225246.90\n",
      "Name: total_profit, Length: 76, dtype: float64\n"
     ]
    }
   ],
   "source": [
    "# # Group by 'Country' and sum the 'Total Profit'\n",
    "# profit_by_country = df.groupby('country')['total_profit'].sum()\n",
    "# print('Profit by Country:')\n",
    "# print(profit_by_country) code need as per year"
   ]
  },
  {
   "cell_type": "code",
   "execution_count": 32,
   "metadata": {},
   "outputs": [
    {
     "data": {
      "image/png": "[encoded data removed]",
      "text/plain": [
       "<Figure size 800x600 with 2 Axes>"
      ]
     },
     "metadata": {},
     "output_type": "display_data"
    }
   ],
   "source": [
    "# Create a correlation matrix\n",
    "corr_matrix = df[['units_sold', 'unit_price', 'unit_cost', 'total_revenue', 'total_profit']].corr()\n",
    "\n",
    "# Plot the heatmap\n",
    "plt.figure(figsize=(8,6))\n",
    "sns.heatmap(corr_matrix, annot=True, cmap='Blues')\n",
    "plt.title('Correlation between Sales and Profit-related Factors')\n",
    "plt.show()"
   ]
  },
  {
   "cell_type": "code",
   "execution_count": null,
   "metadata": {},
   "outputs": [],
   "source": []
  }
 ],
 "metadata": {
  "colab": {
   "authorship_tag": "ABX9TyPpig12fhfAHzog9Y+ZUecJ",
   "mount_file_id": "19J9m8Bp8L5BvBW2kta-Bosp5BdXRmPA5",
   "provenance": []
  },
  "kernelspec": {
   "display_name": "Python 3 (ipykernel)",
   "language": "python",
   "name": "python3"
  },
  "language_info": {
   "codemirror_mode": {
    "name": "ipython",
    "version": 3
   },
   "file_extension": ".py",
   "mimetype": "text/x-python",
   "name": "python",
   "nbconvert_exporter": "python",
   "pygments_lexer": "ipython3",
   "version": "3.12.5"
  }
 },
 "nbformat": 4,
 "nbformat_minor": 4
}
